{
 "cells": [
  {
   "cell_type": "code",
   "execution_count": 8,
   "id": "6fbc968c",
   "metadata": {},
   "outputs": [],
   "source": [
    "def Subfields():\n",
    "    print(\"Sub-fields in AI are:\\nMachine Learning\\nNeural Network\\nVision\\nRobotics\\nSpeech Processing\\nNatural Language Processing\")"
   ]
  },
  {
   "cell_type": "code",
   "execution_count": 9,
   "id": "b2ebd65f",
   "metadata": {},
   "outputs": [
    {
     "name": "stdout",
     "output_type": "stream",
     "text": [
      "Sub-fields in AI are:\n",
      "Machine Learning\n",
      "Neural Network\n",
      "Vision\n",
      "Robotics\n",
      "Speech Processing\n",
      "Natural Language Processing\n"
     ]
    }
   ],
   "source": [
    "Subfields()"
   ]
  },
  {
   "cell_type": "code",
   "execution_count": 10,
   "id": "bdc6bfdb",
   "metadata": {},
   "outputs": [],
   "source": [
    "def OddEven():\n",
    "    num=int(input(\"Enter a number: \"))\n",
    "    if ((num%2)==0):\n",
    "        print(num,\"is Even Number\")\n",
    "        message=\"Even Number\"\n",
    "    else:\n",
    "        print(num,\"is Odd Number\")\n",
    "        message=\"Odd Number\"\n",
    "    return message"
   ]
  },
  {
   "cell_type": "code",
   "execution_count": 11,
   "id": "c8c1018a",
   "metadata": {},
   "outputs": [
    {
     "name": "stdout",
     "output_type": "stream",
     "text": [
      "Enter a number: 4\n",
      "4 is Even Number\n"
     ]
    },
    {
     "data": {
      "text/plain": [
       "'Even Number'"
      ]
     },
     "execution_count": 11,
     "metadata": {},
     "output_type": "execute_result"
    }
   ],
   "source": [
    "OddEven()"
   ]
  },
  {
   "cell_type": "code",
   "execution_count": 16,
   "id": "1417da90",
   "metadata": {},
   "outputs": [
    {
     "name": "stdout",
     "output_type": "stream",
     "text": [
      "Your Gender:Male\n",
      "Your Age:28\n"
     ]
    }
   ],
   "source": [
    "def Elegible(Gender=input(\"Your Gender:\"),Age=int(input(\"Your Age:\"))):\n",
    "    if (Gender==\"Male\" or Gender==\"Female\" and Age>21):\n",
    "        print(\"Elegible\")\n",
    "        result=\"Elegible\"\n",
    "    else:\n",
    "        print(\"Not Eligible\")\n",
    "        result=\"Not Elegible\"\n",
    "    return result"
   ]
  },
  {
   "cell_type": "code",
   "execution_count": 19,
   "id": "d890e82b",
   "metadata": {},
   "outputs": [
    {
     "name": "stdout",
     "output_type": "stream",
     "text": [
      "Not Eligible\n"
     ]
    },
    {
     "data": {
      "text/plain": [
       "'Not Elegible'"
      ]
     },
     "execution_count": 19,
     "metadata": {},
     "output_type": "execute_result"
    }
   ],
   "source": [
    "Elegible(\"Female\",18)"
   ]
  },
  {
   "cell_type": "code",
   "execution_count": 28,
   "id": "d6d08dd3",
   "metadata": {},
   "outputs": [],
   "source": [
    "def percentage():\n",
    "    s1=(int(input(\"Subject1= \")))\n",
    "    s2=(int(input(\"Subject2= \")))\n",
    "    s3=(int(input(\"Subject3= \")))\n",
    "    s4=(int(input(\"Subject4= \")))\n",
    "    s5=(int(input(\"Subject5= \")))\n",
    "    total=s1+s2+s3+s4+s5\n",
    "    print(\"Total : \", total)\n",
    "    percent=total/5\n",
    "    print(\"Percentage : \", percent)"
   ]
  },
  {
   "cell_type": "code",
   "execution_count": 29,
   "id": "715a12f5",
   "metadata": {},
   "outputs": [
    {
     "name": "stdout",
     "output_type": "stream",
     "text": [
      "Subject1= 23\n",
      "Subject2= 45\n",
      "Subject3= 34\n",
      "Subject4= 23\n",
      "Subject5= 23\n",
      "Total :  148\n",
      "Percentage :  29.6\n"
     ]
    }
   ],
   "source": [
    "percentage()"
   ]
  },
  {
   "cell_type": "code",
   "execution_count": 32,
   "id": "c189132d",
   "metadata": {},
   "outputs": [],
   "source": [
    "def triangle(Height,Breadth):\n",
    "    Area_of_triangle=(Height*Breadth)/2\n",
    "    print(\"Area of Triangle:\", Area_of_triangle)\n",
    "    return Area_of_triangle"
   ]
  },
  {
   "cell_type": "code",
   "execution_count": 33,
   "id": "e1a3eea8",
   "metadata": {},
   "outputs": [
    {
     "name": "stdout",
     "output_type": "stream",
     "text": [
      "Area of Triangle: 6.0\n"
     ]
    },
    {
     "data": {
      "text/plain": [
       "6.0"
      ]
     },
     "execution_count": 33,
     "metadata": {},
     "output_type": "execute_result"
    }
   ],
   "source": [
    "triangle(3,4)"
   ]
  },
  {
   "cell_type": "code",
   "execution_count": 35,
   "id": "bb13670b",
   "metadata": {},
   "outputs": [],
   "source": [
    "def triangle1(Height1,Height2,Breadth):\n",
    "    perimeter=(Height1+Height2+Breadth)\n",
    "    print(\"Perimeter of Triangle:\", perimeter)\n",
    "    return perimeter"
   ]
  },
  {
   "cell_type": "code",
   "execution_count": 36,
   "id": "fbdb4f43",
   "metadata": {},
   "outputs": [
    {
     "name": "stdout",
     "output_type": "stream",
     "text": [
      "Perimeter of Triangle: 52\n"
     ]
    },
    {
     "data": {
      "text/plain": [
       "52"
      ]
     },
     "execution_count": 36,
     "metadata": {},
     "output_type": "execute_result"
    }
   ],
   "source": [
    "triangle1(3,4,45)"
   ]
  },
  {
   "cell_type": "code",
   "execution_count": null,
   "id": "f4891632",
   "metadata": {},
   "outputs": [],
   "source": []
  }
 ],
 "metadata": {
  "kernelspec": {
   "display_name": "Python 3 (ipykernel)",
   "language": "python",
   "name": "python3"
  },
  "language_info": {
   "codemirror_mode": {
    "name": "ipython",
    "version": 3
   },
   "file_extension": ".py",
   "mimetype": "text/x-python",
   "name": "python",
   "nbconvert_exporter": "python",
   "pygments_lexer": "ipython3",
   "version": "3.10.9"
  }
 },
 "nbformat": 4,
 "nbformat_minor": 5
}
