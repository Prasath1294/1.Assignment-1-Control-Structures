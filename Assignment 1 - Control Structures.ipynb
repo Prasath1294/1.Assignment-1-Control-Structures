{
 "cells": [
  {
   "cell_type": "code",
   "execution_count": 1,
   "id": "13a237c8",
   "metadata": {},
   "outputs": [
    {
     "name": "stdout",
     "output_type": "stream",
     "text": [
      "Welcome to Assignment-1\n"
     ]
    }
   ],
   "source": [
    "print(\"Welcome to Assignment-1\")"
   ]
  },
  {
   "cell_type": "code",
   "execution_count": 6,
   "id": "2337168b",
   "metadata": {},
   "outputs": [
    {
     "name": "stdout",
     "output_type": "stream",
     "text": [
      "Num1= 10\n",
      "Num2= 30\n",
      "Add= 40\n"
     ]
    }
   ],
   "source": [
    "Num1=input(\"Num1= \")\n",
    "Num2=input(\"Num2= \")\n",
    "Add=int(Num1)+int(Num2)\n",
    "print(\"Add=\",Add)"
   ]
  },
  {
   "cell_type": "code",
   "execution_count": null,
   "id": "9fd77ec3",
   "metadata": {},
   "outputs": [],
   "source": [
    "#Body Mass Index"
   ]
  },
  {
   "cell_type": "code",
   "execution_count": 11,
   "id": "80d89828",
   "metadata": {},
   "outputs": [
    {
     "name": "stdout",
     "output_type": "stream",
     "text": [
      "Enter the BMI Index: 35\n",
      "Extremely Obese\n"
     ]
    }
   ],
   "source": [
    "weight=int(input(\"Enter the BMI Index: \"))\n",
    "    if(weight<18.5):\n",
    "        print(\"Under Weight\")\n",
    "    elif(weight>18.5 and weight<24.9):\n",
    "        print(\"Normal Weight\")\n",
    "    elif(weight>25 and weight<29.9):\n",
    "        print(\"Over Weight\")\n",
    "    elif(weight>30.0 and weight<34.9):\n",
    "        print(\"Obese\")\n",
    "    else:\n",
    "        print(\"Extremely Obese\")\n"
   ]
  },
  {
   "cell_type": "code",
   "execution_count": null,
   "id": "2ee5ec6e",
   "metadata": {},
   "outputs": [],
   "source": []
  }
 ],
 "metadata": {
  "kernelspec": {
   "display_name": "Python 3 (ipykernel)",
   "language": "python",
   "name": "python3"
  },
  "language_info": {
   "codemirror_mode": {
    "name": "ipython",
    "version": 3
   },
   "file_extension": ".py",
   "mimetype": "text/x-python",
   "name": "python",
   "nbconvert_exporter": "python",
   "pygments_lexer": "ipython3",
   "version": "3.10.9"
  }
 },
 "nbformat": 4,
 "nbformat_minor": 5
}
