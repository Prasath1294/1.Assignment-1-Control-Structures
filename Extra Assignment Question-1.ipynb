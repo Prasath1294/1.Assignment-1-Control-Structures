{
 "cells": [
  {
   "cell_type": "code",
   "execution_count": 1,
   "id": "171b3f79",
   "metadata": {},
   "outputs": [
    {
     "name": "stdout",
     "output_type": "stream",
     "text": [
      "HOPE AI\n"
     ]
    }
   ],
   "source": [
    "print(\"HOPE AI\")"
   ]
  },
  {
   "cell_type": "code",
   "execution_count": 3,
   "id": "42fbf9c5",
   "metadata": {},
   "outputs": [
    {
     "name": "stdout",
     "output_type": "stream",
     "text": [
      "Enter institute name? : HOPE AI\n"
     ]
    },
    {
     "data": {
      "text/plain": [
       "'HOPE AI'"
      ]
     },
     "execution_count": 3,
     "metadata": {},
     "output_type": "execute_result"
    }
   ],
   "source": [
    "input(\"Enter institute name? : \")"
   ]
  },
  {
   "cell_type": "code",
   "execution_count": 4,
   "id": "e3092d13",
   "metadata": {},
   "outputs": [
    {
     "name": "stdout",
     "output_type": "stream",
     "text": [
      "Enter your name: Ram\n",
      "Enter your age: 28\n",
      "Enter your school name: Thambu Higher Secondry school\n",
      "Enter your degree: B.Com\n"
     ]
    },
    {
     "data": {
      "text/plain": [
       "'B.Com'"
      ]
     },
     "execution_count": 4,
     "metadata": {},
     "output_type": "execute_result"
    }
   ],
   "source": [
    "input(\"Enter your name: \")\n",
    "input(\"Enter your age: \")\n",
    "input(\"Enter your school name: \")\n",
    "input(\"Enter your degree: \")"
   ]
  },
  {
   "cell_type": "code",
   "execution_count": 16,
   "id": "9df16a95",
   "metadata": {},
   "outputs": [
    {
     "name": "stdout",
     "output_type": "stream",
     "text": [
      "a= 43\n",
      "b= 34\n",
      "add = 77\n"
     ]
    }
   ],
   "source": [
    "a,b=int(input(\"a= \")),int(input(\"b= \"))\n",
    "print(\"add =\", a+b)"
   ]
  },
  {
   "cell_type": "code",
   "execution_count": 17,
   "id": "31585a4f",
   "metadata": {},
   "outputs": [
    {
     "name": "stdout",
     "output_type": "stream",
     "text": [
      "a= 43\n",
      "b= 34\n",
      "sub = 9\n"
     ]
    }
   ],
   "source": [
    "a,b=int(input(\"a= \")),int(input(\"b= \"))\n",
    "print(\"sub =\", a-b)"
   ]
  },
  {
   "cell_type": "code",
   "execution_count": 18,
   "id": "f5e830a6",
   "metadata": {},
   "outputs": [
    {
     "name": "stdout",
     "output_type": "stream",
     "text": [
      "a= 63\n",
      "b= 97\n",
      "Mul = 6111\n"
     ]
    }
   ],
   "source": [
    "a,b=int(input(\"a= \")),int(input(\"b= \"))\n",
    "print(\"Mul =\", a*b)"
   ]
  },
  {
   "cell_type": "code",
   "execution_count": 19,
   "id": "2e3ea308",
   "metadata": {},
   "outputs": [
    {
     "name": "stdout",
     "output_type": "stream",
     "text": [
      "a= 76\n",
      "b= 31\n",
      "Float Div=  2.4516129032258065\n"
     ]
    }
   ],
   "source": [
    "a,b=int(input(\"a= \")),int(input(\"b= \"))\n",
    "print(\"Float Div= \",a/b)"
   ]
  },
  {
   "cell_type": "code",
   "execution_count": 20,
   "id": "31dea2ec",
   "metadata": {},
   "outputs": [
    {
     "name": "stdout",
     "output_type": "stream",
     "text": [
      "a= 76\n",
      "b= 31\n",
      "Floor Div=  2\n"
     ]
    }
   ],
   "source": [
    "a,b=int(input(\"a= \")),int(input(\"b= \"))\n",
    "print(\"Floor Div= \", a//b)"
   ]
  },
  {
   "cell_type": "code",
   "execution_count": 21,
   "id": "85d65a0a",
   "metadata": {},
   "outputs": [
    {
     "name": "stdout",
     "output_type": "stream",
     "text": [
      "a= 76\n",
      "b= 31\n",
      "Modulo =  14\n"
     ]
    }
   ],
   "source": [
    "a,b=int(input(\"a= \")),int(input(\"b= \"))\n",
    "print(\"Modulo = \", a%b)"
   ]
  },
  {
   "cell_type": "code",
   "execution_count": 15,
   "id": "03fb84eb",
   "metadata": {},
   "outputs": [
    {
     "name": "stdout",
     "output_type": "stream",
     "text": [
      "a= 4\n",
      "b= 4\n",
      "Power = 256\n"
     ]
    }
   ],
   "source": [
    "a,b=int(input(\"a= \")),int(input(\"b= \"))\n",
    "print(\"Power =\", a**b)"
   ]
  },
  {
   "cell_type": "code",
   "execution_count": null,
   "id": "e7808219",
   "metadata": {},
   "outputs": [],
   "source": []
  }
 ],
 "metadata": {
  "kernelspec": {
   "display_name": "Python 3 (ipykernel)",
   "language": "python",
   "name": "python3"
  },
  "language_info": {
   "codemirror_mode": {
    "name": "ipython",
    "version": 3
   },
   "file_extension": ".py",
   "mimetype": "text/x-python",
   "name": "python",
   "nbconvert_exporter": "python",
   "pygments_lexer": "ipython3",
   "version": "3.10.9"
  }
 },
 "nbformat": 4,
 "nbformat_minor": 5
}
