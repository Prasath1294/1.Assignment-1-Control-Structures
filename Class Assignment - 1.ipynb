{
 "cells": [
  {
   "cell_type": "code",
   "execution_count": 7,
   "id": "f80a4a64",
   "metadata": {},
   "outputs": [],
   "source": [
    "class SubfieldsInAI():\n",
    "        def Subfields():\n",
    "            print(\"Sub-fields in AI are:\\nMachine Learning\\nNeural Network\\nVision\\nRobotics\\nSpeech Processing\\nNatural Language Processing\")"
   ]
  },
  {
   "cell_type": "code",
   "execution_count": 8,
   "id": "2277eecb",
   "metadata": {},
   "outputs": [
    {
     "name": "stdout",
     "output_type": "stream",
     "text": [
      "Sub-fields in AI are:\n",
      "Machine Learning\n",
      "Neural Network\n",
      "Vision\n",
      "Robotics\n",
      "Speech Processing\n",
      "Natural Language Processing\n"
     ]
    }
   ],
   "source": [
    "SubfieldsInAI.Subfields()"
   ]
  },
  {
   "cell_type": "code",
   "execution_count": 9,
   "id": "d587a828",
   "metadata": {},
   "outputs": [],
   "source": [
    "class OddEven():\n",
    "    def OddEven():\n",
    "        num=int(input(\"Enter a number: \"))\n",
    "        if ((num%2)==0):\n",
    "            print(num,\"is Even Number\")\n",
    "            message=\"Even Number\"\n",
    "        else:\n",
    "            print(num,\"is Odd Number\")\n",
    "            message=\"Odd Number\"\n",
    "        return message"
   ]
  },
  {
   "cell_type": "code",
   "execution_count": 10,
   "id": "b7d42e32",
   "metadata": {},
   "outputs": [
    {
     "name": "stdout",
     "output_type": "stream",
     "text": [
      "Enter a number: 34\n",
      "34 is Even Number\n"
     ]
    },
    {
     "data": {
      "text/plain": [
       "'Even Number'"
      ]
     },
     "execution_count": 10,
     "metadata": {},
     "output_type": "execute_result"
    }
   ],
   "source": [
    "OddEven.OddEven()"
   ]
  },
  {
   "cell_type": "code",
   "execution_count": 14,
   "id": "9cf47537",
   "metadata": {},
   "outputs": [
    {
     "name": "stdout",
     "output_type": "stream",
     "text": [
      "Your Gender:Female\n",
      "Your Age:18\n"
     ]
    }
   ],
   "source": [
    "class ElegibilityForMarriage():\n",
    "    def Elegible(Gender=input(\"Your Gender:\"),Age=int(input(\"Your Age:\"))):\n",
    "        if (Gender==\"Male\" and Age>21):\n",
    "            print(\"Elegible\")\n",
    "            result=\"Elegible\"\n",
    "        elif (Gender==\"Female\" and Age>18):\n",
    "            print(\"Elegible\")\n",
    "            result=\"Elegible\"\n",
    "        else:\n",
    "            print(\"Not Eligible\")\n",
    "            result=\"Not Elegible\"\n",
    "        return result"
   ]
  },
  {
   "cell_type": "code",
   "execution_count": 13,
   "id": "b16ffe3e",
   "metadata": {},
   "outputs": [
    {
     "name": "stdout",
     "output_type": "stream",
     "text": [
      "Not Eligible\n"
     ]
    },
    {
     "data": {
      "text/plain": [
       "'Not Elegible'"
      ]
     },
     "execution_count": 13,
     "metadata": {},
     "output_type": "execute_result"
    }
   ],
   "source": [
    "ElegibilityForMarriage.Elegible(\"Female\",18)"
   ]
  },
  {
   "cell_type": "code",
   "execution_count": 16,
   "id": "4158c64c",
   "metadata": {},
   "outputs": [],
   "source": [
    "class FindPercent():\n",
    "    def percentage():\n",
    "        s1=(int(input(\"Subject1= \")))\n",
    "        s2=(int(input(\"Subject2= \")))\n",
    "        s3=(int(input(\"Subject3= \")))\n",
    "        s4=(int(input(\"Subject4= \")))\n",
    "        s5=(int(input(\"Subject5= \")))\n",
    "        total=s1+s2+s3+s4+s5\n",
    "        print(\"Total : \", total)\n",
    "        percent=total/5\n",
    "        print(\"Percentage : \", percent)"
   ]
  },
  {
   "cell_type": "code",
   "execution_count": 17,
   "id": "94cc3827",
   "metadata": {},
   "outputs": [
    {
     "name": "stdout",
     "output_type": "stream",
     "text": [
      "Subject1= 23\n",
      "Subject2= 45\n",
      "Subject3= 34\n",
      "Subject4= 23\n",
      "Subject5= 23\n",
      "Total :  148\n",
      "Percentage :  29.6\n"
     ]
    }
   ],
   "source": [
    "FindPercent.percentage()"
   ]
  },
  {
   "cell_type": "code",
   "execution_count": 18,
   "id": "402cd82c",
   "metadata": {},
   "outputs": [],
   "source": [
    "class triangle():\n",
    "    def triangle(Height,Breadth):\n",
    "        Area_of_triangle=(Height*Breadth)/2\n",
    "        print(\"Area of Triangle:\", Area_of_triangle)\n",
    "        return Area_of_triangle"
   ]
  },
  {
   "cell_type": "code",
   "execution_count": 19,
   "id": "e7044a5e",
   "metadata": {},
   "outputs": [
    {
     "name": "stdout",
     "output_type": "stream",
     "text": [
      "Area of Triangle: 6.0\n"
     ]
    },
    {
     "data": {
      "text/plain": [
       "6.0"
      ]
     },
     "execution_count": 19,
     "metadata": {},
     "output_type": "execute_result"
    }
   ],
   "source": [
    "triangle.triangle(3,4)"
   ]
  },
  {
   "cell_type": "code",
   "execution_count": 20,
   "id": "c0cacc4a",
   "metadata": {},
   "outputs": [],
   "source": [
    "class Triangle():\n",
    "    def triangle1(Height1,Height2,Breadth):\n",
    "        perimeter=(Height1+Height2+Breadth)\n",
    "        print(\"Perimeter of Triangle:\", perimeter)\n",
    "        return perimeter"
   ]
  },
  {
   "cell_type": "code",
   "execution_count": 21,
   "id": "c6d14ab0",
   "metadata": {},
   "outputs": [
    {
     "name": "stdout",
     "output_type": "stream",
     "text": [
      "Perimeter of Triangle: 52\n"
     ]
    },
    {
     "data": {
      "text/plain": [
       "52"
      ]
     },
     "execution_count": 21,
     "metadata": {},
     "output_type": "execute_result"
    }
   ],
   "source": [
    "Triangle.triangle1(3,4,45)"
   ]
  },
  {
   "cell_type": "code",
   "execution_count": null,
   "id": "7025cf99",
   "metadata": {},
   "outputs": [],
   "source": []
  }
 ],
 "metadata": {
  "kernelspec": {
   "display_name": "Python 3 (ipykernel)",
   "language": "python",
   "name": "python3"
  },
  "language_info": {
   "codemirror_mode": {
    "name": "ipython",
    "version": 3
   },
   "file_extension": ".py",
   "mimetype": "text/x-python",
   "name": "python",
   "nbconvert_exporter": "python",
   "pygments_lexer": "ipython3",
   "version": "3.10.9"
  }
 },
 "nbformat": 4,
 "nbformat_minor": 5
}
